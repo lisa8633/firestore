{
 "cells": [
  {
   "cell_type": "markdown",
   "metadata": {},
   "source": [
    "### Step 1. Download the college normalized dataset:\n",
    "#### gsutil cp gs://cs327e-open-access/college_normalized.zip .\n",
    "#### unzip college_normalized.zip"
   ]
  },
  {
   "cell_type": "markdown",
   "metadata": {},
   "source": [
    "### Step 2: Run code samples in sequence to populate Firestore database"
   ]
  },
  {
   "cell_type": "code",
   "execution_count": 2,
   "metadata": {},
   "outputs": [],
   "source": [
    "import pandas as pd\n",
    "from google.cloud import firestore\n",
    "db = firestore.Client()"
   ]
  },
  {
   "cell_type": "code",
   "execution_count": null,
   "metadata": {},
   "outputs": [],
   "source": [
    "batch = db.batch()\n",
    "\n",
    "df = pd.read_csv('college_normalized/class.csv', sep=',', header=0, lineterminator='\\n')\n",
    "rows = df.values.tolist()\n",
    "\n",
    "for row in rows:\n",
    "    \n",
    "    record = {}\n",
    "    record['cno'] = row[0]\n",
    "    record['cname'] = row[1]\n",
    "    record['credits'] = row[2]\n",
    "    \n",
    "    class_ref = db.collection('class').document(row[0])\n",
    "    \n",
    "    batch.set(class_ref, record)\n",
    "    \n",
    "batch.commit()"
   ]
  },
  {
   "cell_type": "code",
   "execution_count": null,
   "metadata": {},
   "outputs": [],
   "source": [
    "batch = db.batch()\n",
    "\n",
    "df = pd.read_csv('college_normalized/student.csv', sep=',', header=0, lineterminator='\\n')\n",
    "student_rows = df.values.tolist()\n",
    "\n",
    "df = pd.read_csv('college_normalized/takes.csv', sep=',', header=0, lineterminator='\\n')\n",
    "takes_rows = df.values.tolist()\n",
    "\n",
    "for student_row in student_rows:\n",
    "    \n",
    "    record = {}\n",
    "    record['sid'] = student_row[0]\n",
    "    record['fname'] = student_row[1]\n",
    "    record['lname'] = student_row[2]\n",
    "    record['dob'] = student_row[3]\n",
    "    record['status'] = student_row[4]\n",
    "    \n",
    "    student_classes = []\n",
    "    \n",
    "    for takes_row in takes_rows:\n",
    "        if student_row[0] == takes_row[0]:\n",
    "            \n",
    "            student_class = {}\n",
    "            student_class['cno'] = takes_row[1]\n",
    "            student_class['grade'] = takes_row[2]\n",
    "            \n",
    "            student_classes.append(student_class)\n",
    "    \n",
    "    if len(student_classes) > 0:\n",
    "        record['classes'] = student_classes\n",
    "    \n",
    "    student_ref = db.collection('student').document(student_row[0])\n",
    "    \n",
    "    batch.set(student_ref, record)\n",
    "    \n",
    "batch.commit()"
   ]
  },
  {
   "cell_type": "code",
   "execution_count": 10,
   "metadata": {},
   "outputs": [
    {
     "data": {
      "text/plain": [
       "[update_time {\n",
       "   seconds: 1601242321\n",
       "   nanos: 881355000\n",
       " },\n",
       " update_time {\n",
       "   seconds: 1601242321\n",
       "   nanos: 881355000\n",
       " },\n",
       " update_time {\n",
       "   seconds: 1601242321\n",
       "   nanos: 881355000\n",
       " },\n",
       " update_time {\n",
       "   seconds: 1601242321\n",
       "   nanos: 881355000\n",
       " },\n",
       " update_time {\n",
       "   seconds: 1601242321\n",
       "   nanos: 881355000\n",
       " },\n",
       " update_time {\n",
       "   seconds: 1601242321\n",
       "   nanos: 881355000\n",
       " },\n",
       " update_time {\n",
       "   seconds: 1601242321\n",
       "   nanos: 881355000\n",
       " },\n",
       " update_time {\n",
       "   seconds: 1601242321\n",
       "   nanos: 881355000\n",
       " },\n",
       " update_time {\n",
       "   seconds: 1601242321\n",
       "   nanos: 881355000\n",
       " },\n",
       " update_time {\n",
       "   seconds: 1601242321\n",
       "   nanos: 881355000\n",
       " }]"
      ]
     },
     "execution_count": 10,
     "metadata": {},
     "output_type": "execute_result"
    }
   ],
   "source": [
    "batch = db.batch()\n",
    "\n",
    "df = pd.read_csv('college_normalized/teacher.csv', sep=',', header=0, lineterminator='\\n')\n",
    "teacher_rows = df.values.tolist()\n",
    "\n",
    "df = pd.read_csv('college_normalized/teaches.csv', sep=',', header=0, lineterminator='\\n')\n",
    "teaches_rows = df.values.tolist()\n",
    "\n",
    "for teacher_row in teacher_rows:\n",
    "    \n",
    "    record = {}\n",
    "    record['tid'] = teacher_row[0]\n",
    "    record['instructor'] = teacher_row[1]\n",
    "    record['dept'] = teacher_row[2]\n",
    "    \n",
    "    classes_taught = []\n",
    "    \n",
    "    for teaches_row in teaches_rows:\n",
    "        \n",
    "        if teacher_row[0] == teaches_row[0]:\n",
    "            classes_taught.append(teaches_row[1])\n",
    "    \n",
    "    if len(classes_taught) > 0:\n",
    "        record['classes'] = classes_taught\n",
    "    \n",
    "    teacher_ref = db.collection('teacher').document(teacher_row[0])\n",
    "    \n",
    "    batch.set(teacher_ref, record)\n",
    "    \n",
    "batch.commit()"
   ]
  },
  {
   "cell_type": "markdown",
   "metadata": {},
   "source": [
    "### Step 3: Run some queries"
   ]
  },
  {
   "cell_type": "code",
   "execution_count": 9,
   "metadata": {},
   "outputs": [
    {
     "name": "stdout",
     "output_type": "stream",
     "text": [
      "paulg => {'classes': [{'cno': 'CS313E', 'grade': nan}, {'cno': 'CS326E', 'grade': 'A-'}, {'grade': 'A ', 'cno': 'CS329E'}], 'fname': 'Paul', 'sid': 'paulg', 'status': 'CUR', 'lname': 'Gore', 'dob': '2000-09-17'}\n"
     ]
    }
   ],
   "source": [
    "student_ref = db.collection('student').document('paulg')\n",
    "result = student_ref.get()\n",
    "\n",
    "if result.exists:\n",
    "    print(f'{result.id} => {result.to_dict()}')\n",
    "else:\n",
    "    print('No such student')"
   ]
  },
  {
   "cell_type": "code",
   "execution_count": 7,
   "metadata": {},
   "outputs": [
    {
     "name": "stdout",
     "output_type": "stream",
     "text": [
      "aprilz => {'fname': 'April', 'sid': 'aprilz', 'status': 'CUR', 'dob': '2000-01-10', 'lname': 'Lopez'}\n",
      "bzen26 => {'classes': [{'cno': 'CS313E', 'grade': 'B+'}], 'fname': 'Biswa', 'sid': 'bzen26', 'status': 'CUR', 'dob': '1998-04-22', 'lname': 'Zen'}\n",
      "jc => {'classes': [{'grade': nan, 'cno': 'CS327E'}, {'grade': nan, 'cno': 'CS331E'}, {'grade': nan, 'cno': 'CS313E'}], 'fname': 'James', 'sid': 'jc', 'status': 'CUR', 'dob': '2000-04-22', 'lname': 'Cowe'}\n",
      "jerryh => {'dob': '1999-01-03', 'lname': 'Hargrove', 'classes': [{'cno': 'CS329E', 'grade': 'A-'}, {'cno': 'CS327E', 'grade': 'B '}], 'fname': 'Jerry', 'sid': 'jerryh', 'status': 'CUR'}\n",
      "kev18 => {'classes': [{'grade': nan, 'cno': 'CS329E'}], 'fname': 'Kevin', 'sid': 'kev18', 'status': 'CUR', 'lname': 'Lin', 'dob': '1999-05-10'}\n",
      "paulg => {'status': 'CUR', 'lname': 'Gore', 'dob': '2000-09-17', 'classes': [{'cno': 'CS313E', 'grade': nan}, {'cno': 'CS326E', 'grade': 'A-'}, {'cno': 'CS329E', 'grade': 'A '}], 'fname': 'Paul', 'sid': 'paulg'}\n",
      "sudeepa4 => {'status': 'CUR', 'dob': '2000-10-01', 'lname': 'Roy', 'fname': 'Sudeepa', 'sid': 'sudeepa4'}\n"
     ]
    }
   ],
   "source": [
    "student_ref = db.collection('student')\n",
    "query = student_ref.where('status', '==', 'CUR')\n",
    "results = query.stream()\n",
    "\n",
    "for result in results:\n",
    "    print(f'{result.id} => {result.to_dict()}')"
   ]
  },
  {
   "cell_type": "code",
   "execution_count": 8,
   "metadata": {},
   "outputs": [
    {
     "name": "stdout",
     "output_type": "stream",
     "text": [
      "bulko => {'dept': 'Computer Science', 'tid': 'bulko', 'instructor': 'Bill Bulko', 'classes': ['CS313E']}\n",
      "mitra => {'dept': 'Computer Science', 'tid': 'mitra', 'instructor': 'Shyamal Mitra', 'classes': ['CS329E', 'CS313E']}\n"
     ]
    }
   ],
   "source": [
    "teacher_ref = db.collection('teacher')\n",
    "query = teacher_ref.where(\n",
    "    'classes', 'array_contains', 'CS313E').order_by('instructor').limit(5)\n",
    "results = query.stream()\n",
    "\n",
    "for result in results:\n",
    "    print(f'{result.id} => {result.to_dict()}')"
   ]
  },
  {
   "cell_type": "code",
   "execution_count": 7,
   "metadata": {},
   "outputs": [
    {
     "name": "stdout",
     "output_type": "stream",
     "text": [
      "jerryh => {'fname': 'Jerry', 'sid': 'jerryh', 'status': 'CUR', 'dob': '1999-01-03', 'lname': 'Hargrove', 'classes': [{'cno': 'CS329E', 'grade': 'A-'}, {'cno': 'CS327E', 'grade': 'B '}]}\n"
     ]
    }
   ],
   "source": [
    "results = db.collection('student').stream()\n",
    "\n",
    "for result in results:\n",
    "    student = result.to_dict()\n",
    "    if 'classes' in student.keys():\n",
    "        classes = student['classes']\n",
    "        if len(classes) == 2:\n",
    "            print(f'{result.id} => {student}')"
   ]
  },
  {
   "cell_type": "code",
   "execution_count": 16,
   "metadata": {},
   "outputs": [
    {
     "name": "stdout",
     "output_type": "stream",
     "text": [
      "cno: CS327E\n",
      "jc => {'classes': [{'grade': nan, 'cno': 'CS327E'}, {'grade': nan, 'cno': 'CS331E'}, {'cno': 'CS313E', 'grade': nan}], 'fname': 'James', 'sid': 'jc', 'status': 'CUR', 'dob': '2000-04-22', 'lname': 'Cowe'}\n",
      "jerryh => {'fname': 'Jerry', 'sid': 'jerryh', 'status': 'CUR', 'dob': '1999-01-03', 'lname': 'Hargrove', 'classes': [{'cno': 'CS329E', 'grade': 'A-'}, {'cno': 'CS327E', 'grade': 'B '}]}\n"
     ]
    }
   ],
   "source": [
    "class_ref = db.collection('class')\n",
    "query = class_ref.where('cname', '==', 'Elements of Databases')\n",
    "results = query.stream()\n",
    "\n",
    "cno = None\n",
    "\n",
    "for result in results:\n",
    "    class_record = result.to_dict()\n",
    "    cno = class_record['cno']\n",
    "    print('cno: ' + cno)\n",
    "\n",
    "results = db.collection('student').stream()\n",
    "\n",
    "for result in results:\n",
    "    student = result.to_dict()\n",
    "    if 'classes' in student.keys():\n",
    "        classes = student['classes']\n",
    "        \n",
    "        for aclass in classes:\n",
    "            if cno == aclass['cno']:\n",
    "                print(f'{result.id} => {student}')\n",
    "                break"
   ]
  },
  {
   "cell_type": "code",
   "execution_count": null,
   "metadata": {},
   "outputs": [],
   "source": []
  }
 ],
 "metadata": {
  "environment": {
   "name": "common-cpu.m56",
   "type": "gcloud",
   "uri": "gcr.io/deeplearning-platform-release/base-cpu:m56"
  },
  "kernelspec": {
   "display_name": "Python 3",
   "language": "python",
   "name": "python3"
  },
  "language_info": {
   "codemirror_mode": {
    "name": "ipython",
    "version": 3
   },
   "file_extension": ".py",
   "mimetype": "text/x-python",
   "name": "python",
   "nbconvert_exporter": "python",
   "pygments_lexer": "ipython3",
   "version": "3.7.8"
  }
 },
 "nbformat": 4,
 "nbformat_minor": 4
}
