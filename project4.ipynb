{
 "cells": [
  {
   "cell_type": "markdown",
   "metadata": {},
   "source": [
    "# Project 4 - Shopify redesigned with Firebase"
   ]
  },
  {
   "cell_type": "code",
   "execution_count": 1,
   "metadata": {},
   "outputs": [],
   "source": [
    "import pandas as pd\n",
    "from google.cloud import firestore\n",
    "db = firestore.Client()"
   ]
  },
  {
   "cell_type": "code",
   "execution_count": 2,
   "metadata": {},
   "outputs": [],
   "source": [
    "batch = db.batch()\n",
    "\n",
    "apps = pd.read_csv('shopify/apps.csv', sep=',', header=0, lineterminator='\\n')\n",
    "apps_cat = pd.read_csv('shopify/apps_categories.csv', sep=',', header=0, lineterminator='\\n')\n",
    "cat = pd.read_csv('shopify/categories.csv', sep=',', header=0, lineterminator='\\n')\n",
    "ben = pd.read_csv('shopify/key_benefits.csv', sep=',', header=0, lineterminator='\\n')\n",
    "ppf = pd.read_csv('shopify/pricing_plan_features.csv', sep=',', header=0, lineterminator='\\n')\n",
    "plans = pd.read_csv('shopify/pricing_plans.csv', sep=',', header=0, lineterminator='\\n')\n",
    "rev = pd.read_csv('shopify/reviews.csv', sep=',', header=0, lineterminator='\\n')\n",
    "\n",
    "row_apps = apps.values.tolist()\n",
    "row_ac = apps_cat.values.tolist()\n",
    "row_cat = cat.values.tolist()\n",
    "row_ben = ben.values.tolist()\n",
    "row_ppf = ppf.values.tolist()\n",
    "row_plans = plans.values.tolist()\n",
    "row_rev = rev.values.tolist()"
   ]
  },
  {
   "cell_type": "markdown",
   "metadata": {},
   "source": [
    "## Populating collections"
   ]
  },
  {
   "cell_type": "markdown",
   "metadata": {},
   "source": [
    "### Populating the categories collection"
   ]
  },
  {
   "cell_type": "code",
   "execution_count": 3,
   "metadata": {},
   "outputs": [
    {
     "name": "stdout",
     "output_type": "stream",
     "text": [
      "Records found in categories: 12\n",
      "Total added records: 12\n"
     ]
    }
   ],
   "source": [
    "print(\"Records found in categories:\", len(row_cat))\n",
    "\n",
    "# Field names for reviews categories per ERD:\n",
    "# cat_id, title, app_id\n",
    "for row in row_cat:\n",
    "    \n",
    "    record = {}\n",
    "    record['cat_id'] = row[0]\n",
    "    record['title'] = row[1]\n",
    "    record['app_id'] = []\n",
    "    \n",
    "    for rowCheck in row_ac:\n",
    "        if row[0] == rowCheck[1]:\n",
    "            record['app_id'].append(rowCheck[0])\n",
    "    \n",
    "    class_ref = db.collection('categories').document(row[0])\n",
    "    \n",
    "    batch.set(class_ref, record)\n",
    "    \n",
    "silent = batch.commit()\n",
    "print(\"Total added records:\", len(silent))"
   ]
  },
  {
   "cell_type": "markdown",
   "metadata": {},
   "source": [
    "### Populating the reviews collection"
   ]
  },
  {
   "cell_type": "code",
   "execution_count": 4,
   "metadata": {},
   "outputs": [
    {
     "name": "stdout",
     "output_type": "stream",
     "text": [
      "Records found in reviews: 124601\n",
      "Records added: 124601\n"
     ]
    }
   ],
   "source": [
    "k = 0\n",
    "print(\"Records found in reviews:\", len(row_rev))\n",
    "checks = []\n",
    "added = 0\n",
    "batch = db.batch()\n",
    "\n",
    "# Field names for reviews collection per ERD:\n",
    "# review_id, app_id, author, rating, posted_at\n",
    "for row in row_rev:\n",
    "    record = {}\n",
    "    record['review_id'] = row[0] + '_' + str(row[1]).replace(\"/\",\"_fw_slash_\") #replace any / with fw_slash\n",
    "    \n",
    "    checks.append(record['review_id'])\n",
    "\n",
    "    record['app_id'] = row[0]\n",
    "    record['author'] = row[1]\n",
    "    record['rating'] = row[2]\n",
    "    record['posted_at'] = row[3]\n",
    "\n",
    "    class_ref = db.collection('reviews').document(record['review_id'])\n",
    "\n",
    "    batch.set(class_ref, record)\n",
    "    k += 1\n",
    "\n",
    "    if k > 100:\n",
    "        added += k\n",
    "        batch.commit()\n",
    "        k = 0\n",
    "    \n",
    "silent = batch.commit()\n",
    "print(\"Records added:\", added + len(silent))"
   ]
  },
  {
   "cell_type": "markdown",
   "metadata": {},
   "source": [
    "### Populating the pricing_plans collection"
   ]
  },
  {
   "cell_type": "code",
   "execution_count": 5,
   "metadata": {},
   "outputs": [
    {
     "name": "stdout",
     "output_type": "stream",
     "text": [
      "Records found in pricing_plans: 6275\n",
      "Records added: 6275\n"
     ]
    }
   ],
   "source": [
    "batch = db.batch()\n",
    "\n",
    "k = 0\n",
    "\n",
    "# Field names for pricing_plans collection per ERD:\n",
    "# plan_id, app_id, title, price, features\n",
    "print(\"Records found in pricing_plans:\", len(row_plans))\n",
    "for row in row_plans:\n",
    "    k += 1\n",
    "    \n",
    "    record = {}\n",
    "    record['plan_id'] = row[0]\n",
    "    record['app_id'] = row[1]\n",
    "    record['title'] = row[2]\n",
    "    record['price'] = row[3]\n",
    "    record['features'] = []\n",
    "    \n",
    "    for rowCheck in row_ppf:\n",
    "        if row[0] == rowCheck[1]:\n",
    "            record['features'].append(rowCheck[2])\n",
    "    \n",
    "    class_ref = db.collection('pricing_plans').document(row[0])\n",
    "    \n",
    "    batch.set(class_ref, record)\n",
    "    \n",
    "    if k > 100:\n",
    "        batch.commit()\n",
    "        k = 0\n",
    "\n",
    "batch.commit()\n",
    "print(\"Records added:\", len(list(db.collection('pricing_plans').list_documents())))"
   ]
  },
  {
   "cell_type": "markdown",
   "metadata": {},
   "source": [
    "### Populating the apps collection"
   ]
  },
  {
   "cell_type": "code",
   "execution_count": 6,
   "metadata": {},
   "outputs": [
    {
     "name": "stdout",
     "output_type": "stream",
     "text": [
      "Records found in apps: 3547\n",
      "Records added: 3547\n"
     ]
    }
   ],
   "source": [
    "batch = db.batch()\n",
    "\n",
    "k = 0\n",
    "added = 0\n",
    "print(\"Records found in apps:\", len(apps))\n",
    "\n",
    "# Field names for apps collection per ERD:\n",
    "# app_id, url, title, developer, developer_link, icon, rating, reviews_count, \n",
    "# plan_id, key_benefits, review_id, cat_id\n",
    "for row in row_apps:\n",
    "    k += 1\n",
    "    \n",
    "    record = {}\n",
    "    record['app_id'] = row[0]\n",
    "    record['url'] = row[1]\n",
    "    record['title'] = row[2]\n",
    "    record['developer'] = row[3]\n",
    "    record['developer_link'] = row[4]\n",
    "    record['icon'] = row[5]\n",
    "    record['rating'] = row[6]\n",
    "    record['reviews_count'] = row[7]\n",
    "    \n",
    "    record['plan_id'] = []\n",
    "    record['key_benefits'] = []\n",
    "    record['cat_id'] = []\n",
    "    record['review_id'] = []\n",
    "    \n",
    "    #populate cat_id\n",
    "    for rowCheck in row_ac:\n",
    "        if row[0] == rowCheck[0]:\n",
    "            record['cat_id'].append(rowCheck[1])\n",
    "    \n",
    "    #populate cat_id\n",
    "    for rowCheck in row_plans:\n",
    "        if row[0] == rowCheck[1]:\n",
    "            record['plan_id'].append(rowCheck[0])\n",
    "            \n",
    "    #populate review_id\n",
    "    for rowCheck in row_rev:\n",
    "        if row[0] == rowCheck[0]:\n",
    "            record['review_id'].append(rowCheck[0] + '_' + str(rowCheck[1]).replace(\"/\",\"_fw_slash_\"))\n",
    "    \n",
    "    #populate key_benefits embedded table\n",
    "    for rowCheck in row_ben:\n",
    "        if row[0] == rowCheck[0]:\n",
    "            mapTest = {}\n",
    "            mapTest['title'] = rowCheck[1]\n",
    "            mapTest['description'] = rowCheck[2]\n",
    "            record['key_benefits'].append(mapTest)\n",
    "        \n",
    "    \n",
    "    class_ref = db.collection('apps').document(row[0])\n",
    "    \n",
    "    batch.set(class_ref, record)\n",
    "    \n",
    "    if k > 100:\n",
    "        added += k\n",
    "        batch.commit()\n",
    "        k = 0\n",
    "\n",
    "print(\"Records added:\", added + len(batch.commit()))"
   ]
  },
  {
   "cell_type": "markdown",
   "metadata": {},
   "source": [
    "## Document counts for each collection"
   ]
  },
  {
   "cell_type": "code",
   "execution_count": 7,
   "metadata": {},
   "outputs": [
    {
     "name": "stdout",
     "output_type": "stream",
     "text": [
      "Number of documents in the categories collection: 12\n",
      "Number of documents in the pricing_plans collection: 6275\n",
      "Number of documents in the apps collection: 3547\n",
      "Number of documents in the reviews collection: 124601\n"
     ]
    }
   ],
   "source": [
    "print(\"Number of documents in the categories collection:\", len(list(db.collection('categories').list_documents())))\n",
    "print(\"Number of documents in the pricing_plans collection:\", len(list(db.collection('pricing_plans').list_documents())))\n",
    "print(\"Number of documents in the apps collection:\", len(list(db.collection('apps').list_documents())))\n",
    "print(\"Number of documents in the reviews collection:\", len(list(db.collection('reviews').list_documents())))"
   ]
  },
  {
   "cell_type": "markdown",
   "metadata": {},
   "source": [
    "## Queries of Interest"
   ]
  },
  {
   "cell_type": "markdown",
   "metadata": {},
   "source": [
    "1) List the 10 apps with the highest number of reviews (based on\n",
    "apps.review_count). Return the id, title, developer, rating and\n",
    "reviews_count of those apps. Order the results by reviews_count in\n",
    "descending order."
   ]
  },
  {
   "cell_type": "code",
   "execution_count": 8,
   "metadata": {},
   "outputs": [
    {
     "name": "stdout",
     "output_type": "stream",
     "text": [
      "d9f142ee-b141-4dc4-9353-173db61d2eb0 => {'app_id': 'd9f142ee-b141-4dc4-9353-173db61d2eb0', 'rating': 4.7, 'developer': 'Privy', 'title': 'Privy ‑ Exit Pop Ups & Email', 'reviews_count': 23078}\n",
      "78ea0810-c008-4a4e-a82f-de0c790e3286 => {'rating': 4.9, 'app_id': '78ea0810-c008-4a4e-a82f-de0c790e3286', 'developer': 'Hextom', 'title': 'Free Shipping Bar', 'reviews_count': 8737}\n",
      "b88488b0-9912-44d3-b736-224c36f09d95 => {'app_id': 'b88488b0-9912-44d3-b736-224c36f09d95', 'rating': 4.8, 'developer': 'CartKit', 'title': 'Sales Pop ‑ Popup Notification', 'reviews_count': 6905}\n",
      "e528a60e-94f8-4e92-80e2-5bc6013b8283 => {'app_id': 'e528a60e-94f8-4e92-80e2-5bc6013b8283', 'rating': 4.8, 'developer': 'Grizzly Apps', 'title': 'BEST Currency Converter', 'reviews_count': 5986}\n",
      "be2640c4-01b5-4d52-9f68-cae8c0734d0d => {'reviews_count': 5596, 'rating': 4.8, 'app_id': 'be2640c4-01b5-4d52-9f68-cae8c0734d0d', 'title': 'Recart FB Messenger Marketing', 'developer': 'Recart'}\n",
      "70bff9e0-4316-4cc6-84ce-92fcd1bc6925 => {'reviews_count': 5259, 'rating': 4.7, 'app_id': '70bff9e0-4316-4cc6-84ce-92fcd1bc6925', 'title': 'EU Cookie Bar ‑ Cookie GDPR', 'developer': 'Booster Apps'}\n",
      "171816e2-27d4-4552-a65e-ab44a312fe04 => {'app_id': '171816e2-27d4-4552-a65e-ab44a312fe04', 'rating': 4.8, 'title': 'Sales Pop Master ‑ Countdown', 'developer': 'Autoketing', 'reviews_count': 4931}\n",
      "9025eff0-d714-4df1-930f-43f5582979ad => {'rating': 4.8, 'app_id': '9025eff0-d714-4df1-930f-43f5582979ad', 'developer': 'Hextom', 'title': 'Ultimate Sales Boost', 'reviews_count': 4847}\n",
      "404183ac-6d52-4960-85d2-8350f37c2f0b => {'rating': 4.9, 'app_id': '404183ac-6d52-4960-85d2-8350f37c2f0b', 'title': 'Ads by Varinode', 'developer': 'Varinode, Inc.', 'reviews_count': 4245}\n",
      "0380c5ed-7b91-4d4b-9a4e-f6a1c50269dd => {'reviews_count': 4237, 'app_id': '0380c5ed-7b91-4d4b-9a4e-f6a1c50269dd', 'rating': 4.9, 'title': 'Quick Announcement Bar', 'developer': 'Hextom'}\n",
      "Total results: 10\n"
     ]
    }
   ],
   "source": [
    "a_ref = db.collection('apps')\n",
    "query = a_ref.select(('app_id', 'title', 'developer', 'rating', 'reviews_count')).order_by('reviews_count', direction='DESCENDING').limit(10)\n",
    "results = list(query.stream())\n",
    "\n",
    "for result in results:\n",
    "    temp = result.to_dict()\n",
    "    print(f'{result.id} => {temp}')\n",
    "\n",
    "print(\"Total results:\", len(results))"
   ]
  },
  {
   "cell_type": "markdown",
   "metadata": {},
   "source": [
    "2) Find the apps which are categorized as “Trust and security”. Return the id, url,\n",
    "title, developer and rating of those apps. Order the results by rating in\n",
    "descending order. Limit the number of results to 5."
   ]
  },
  {
   "cell_type": "code",
   "execution_count": 9,
   "metadata": {},
   "outputs": [
    {
     "name": "stdout",
     "output_type": "stream",
     "text": [
      "fe2d6047-9654-494d-9eed-1f00e1468639 => {'title': 'OC Check', 'developer': 'Ocean info', 'url': 'https://apps.shopify.com/age-checker-1', 'app_id': 'fe2d6047-9654-494d-9eed-1f00e1468639', 'rating': 5.0}\n",
      "f5454a98-8bdb-499d-906a-bf8d9992b6e8 => {'url': 'https://apps.shopify.com/right-click-defender', 'rating': 5.0, 'app_id': 'f5454a98-8bdb-499d-906a-bf8d9992b6e8', 'developer': 'Adolab', 'title': 'Right Click Defender'}\n",
      "ee95fc91-86c0-41b6-9d04-10422e0c42e8 => {'url': 'https://apps.shopify.com/eu-cookie-privacy-solution', 'app_id': 'ee95fc91-86c0-41b6-9d04-10422e0c42e8', 'rating': 5.0, 'title': 'EU Cookie Consent Banner', 'developer': 'webserviceXXL'}\n",
      "e525d067-418e-49cb-b0c8-9081c85fe5bd => {'developer': 'Webkul Software Pvt Ltd', 'title': 'Social Commerce', 'url': 'https://apps.shopify.com/social-e-commerce', 'app_id': 'e525d067-418e-49cb-b0c8-9081c85fe5bd', 'rating': 5.0}\n",
      "e45d25ac-2939-4b88-9052-c6c033ff25d9 => {'rating': 5.0, 'app_id': 'e45d25ac-2939-4b88-9052-c6c033ff25d9', 'title': 'Geoip Product Blocker', 'developer': 'ZendApps', 'url': 'https://apps.shopify.com/geoip-based-product-blocker'}\n",
      "Total results: 5\n"
     ]
    }
   ],
   "source": [
    "cat_ref = db.collection('categories')\n",
    "query = cat_ref.where('title', '==', 'Trust and security')\n",
    "results = query.stream()\n",
    "\n",
    "for result in results:\n",
    "    temp = result.to_dict()\n",
    "    \n",
    "#print(temp['cat_id'])\n",
    "app_id_list = temp['app_id']\n",
    "#print(len(app_id_list))\n",
    "\n",
    "app_ref = db.collection('apps')\n",
    "query = app_ref.select(('app_id', 'url', 'title', 'developer', 'rating')).order_by('rating', direction='DESCENDING')\n",
    "results = query.stream()\n",
    "\n",
    "selected = []\n",
    "for result in results:\n",
    "    temp = result.to_dict()\n",
    "    if temp['app_id'] in app_id_list:\n",
    "        selected.append(temp)\n",
    "        print(f'{result.id} => {temp}')\n",
    "    if len(selected) >= 5:\n",
    "        break\n",
    "\n",
    "print(\"Total results:\", len(selected))"
   ]
  },
  {
   "cell_type": "markdown",
   "metadata": {},
   "source": [
    "3) Find all the apps that are under the Premium Plan and whose price is $12.99 or higher. Return the id, title, developer, rating, and reviews_count\n",
    "of those apps. Order the results by price in ascending order. Limit the number of results to 10."
   ]
  },
  {
   "cell_type": "code",
   "execution_count": 11,
   "metadata": {},
   "outputs": [
    {
     "name": "stdout",
     "output_type": "stream",
     "text": [
      "a8171589-48cb-4a3a-83f1-5da7a20f5c03 => {'reviews_count': 95, 'rating': 4.9, 'app_id': 'a8171589-48cb-4a3a-83f1-5da7a20f5c03', 'title': 'Enorm Image Slider', 'developer': 'enormapps'}\n",
      "18a74341-10cf-4a49-af8b-505ec047592d => {'app_id': '18a74341-10cf-4a49-af8b-505ec047592d', 'rating': 5.0, 'title': 'Email Alchemy', 'developer': 'Oiizes', 'reviews_count': 1}\n",
      "ae85f088-0627-4368-8c2e-16be4cac506d => {'app_id': 'ae85f088-0627-4368-8c2e-16be4cac506d', 'rating': 5.0, 'developer': 'Zooomy', 'title': 'Wishlist ‑ Wishify', 'reviews_count': 161}\n",
      "7b570802-fd42-49bf-a9f2-19d69838c049 => {'rating': 4.7, 'app_id': '7b570802-fd42-49bf-a9f2-19d69838c049', 'developer': 'Hextom', 'title': 'Countdown Timer Bar', 'reviews_count': 527}\n",
      "b1441cac-3052-4f43-aacc-9312d1d6ec6b => {'app_id': 'b1441cac-3052-4f43-aacc-9312d1d6ec6b', 'rating': 0.0, 'developer': 'Application Nexus', 'title': 'Magic Ball ‑ Email Popup', 'reviews_count': 0}\n",
      "3918da5e-152a-4a00-ad27-4fdfba27c9e5 => {'rating': 4.8, 'app_id': '3918da5e-152a-4a00-ad27-4fdfba27c9e5', 'title': 'Modify Promotional Lightbox', 'developer': 'Mod Media', 'reviews_count': 103}\n",
      "a8171589-48cb-4a3a-83f1-5da7a20f5c03 => {'reviews_count': 95, 'rating': 4.9, 'app_id': 'a8171589-48cb-4a3a-83f1-5da7a20f5c03', 'title': 'Enorm Image Slider', 'developer': 'enormapps'}\n",
      "1cb419ad-2a6e-447d-b5f8-0d1b8e1b8c96 => {'developer': 'SmartDataSoft', 'title': 'Slider Revolution', 'reviews_count': 8, 'app_id': '1cb419ad-2a6e-447d-b5f8-0d1b8e1b8c96', 'rating': 3.8}\n",
      "1db72124-11ac-4b29-a4c9-682d0d854d61 => {'reviews_count': 271, 'rating': 4.8, 'app_id': '1db72124-11ac-4b29-a4c9-682d0d854d61', 'developer': 'GoAffPro', 'title': 'Pro Affiliate Marketing'}\n",
      "b8ef3f74-521f-44ac-ad7f-e5e005a836f3 => {'reviews_count': 208, 'app_id': 'b8ef3f74-521f-44ac-ad7f-e5e005a836f3', 'rating': 4.7, 'title': 'Quantity Breaks Now ‑Discounts', 'developer': 'Website On-Demand'}\n",
      "10 records returned\n"
     ]
    }
   ],
   "source": [
    "#get all app_id in pricing plan where title is Premium Plan and price is higher than 12.99 and order by price\n",
    "plan_ref = db.collection('pricing_plans')\n",
    "query = plan_ref.where('price', '>=', 12.99).where('title', '==', 'Premium Plan').order_by('price', direction='ASCENDING')\n",
    "results = query.stream()\n",
    "\n",
    "apps = []\n",
    "k = 0\n",
    "for result in results:\n",
    "    k += 1\n",
    "    temp = result.to_dict()\n",
    "    apps.append(temp['app_id'])\n",
    "\n",
    "#print(k)\n",
    "#print(len(apps))\n",
    "#get all apps\n",
    "app_ref = db.collection('apps')\n",
    "query = app_ref.select(('app_id','title','developer', 'rating', 'reviews_count'))\n",
    "results = list(query.stream())\n",
    "\n",
    "selected = []\n",
    "\n",
    "k = 0\n",
    "for a in apps:\n",
    "    for result in results:\n",
    "        temp = result.to_dict()\n",
    "        if temp['app_id'] == a:\n",
    "            k += 1\n",
    "            selected.append(temp)\n",
    "            print(f'{result.id} => {temp}')\n",
    "    if k >= 10:\n",
    "        break\n",
    "\n",
    "print(len(selected), \"records returned\")"
   ]
  }
 ],
 "metadata": {
  "environment": {
   "name": "common-cpu.m55",
   "type": "gcloud",
   "uri": "gcr.io/deeplearning-platform-release/base-cpu:m55"
  },
  "kernelspec": {
   "display_name": "Python 3",
   "language": "python",
   "name": "python3"
  },
  "language_info": {
   "codemirror_mode": {
    "name": "ipython",
    "version": 3
   },
   "file_extension": ".py",
   "mimetype": "text/x-python",
   "name": "python",
   "nbconvert_exporter": "python",
   "pygments_lexer": "ipython3",
   "version": "3.7.8"
  }
 },
 "nbformat": 4,
 "nbformat_minor": 4
}
